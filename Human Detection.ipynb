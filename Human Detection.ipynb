{
 "cells": [
  {
   "cell_type": "code",
   "execution_count": 7,
   "metadata": {},
   "outputs": [],
   "source": [
    "import os \n",
    "import tensorflow as tf"
   ]
  },
  {
   "cell_type": "code",
   "execution_count": 8,
   "metadata": {},
   "outputs": [],
   "source": [
    "from tensorflow.keras.layers import Dense,Conv2D,MaxPooling2D,Flatten,BatchNormalization,LSTM\n",
    "from tensorflow.keras.models import Sequential,load_model"
   ]
  },
  {
   "cell_type": "code",
   "execution_count": 9,
   "metadata": {},
   "outputs": [],
   "source": [
    "from tensorflow.keras.preprocessing.image import ImageDataGenerator\n",
    "import cv2"
   ]
  },
  {
   "cell_type": "code",
   "execution_count": 10,
   "metadata": {},
   "outputs": [
    {
     "data": {
      "text/plain": [
       "(2992, 2992, 3)"
      ]
     },
     "execution_count": 10,
     "metadata": {},
     "output_type": "execute_result"
    }
   ],
   "source": [
    "cv2.imread(\"/Users/godfather_101/Downloads/human detection dataset/train/0/0.png\").shape"
   ]
  },
  {
   "cell_type": "code",
   "execution_count": 11,
   "metadata": {},
   "outputs": [],
   "source": [
    "os.makedirs(\"train\",exist_ok=True)\n",
    "os.makedirs(\"test\",exist_ok=True)"
   ]
  },
  {
   "cell_type": "markdown",
   "metadata": {},
   "source": [
    "### Data Preprocessing"
   ]
  },
  {
   "cell_type": "code",
   "execution_count": 12,
   "metadata": {},
   "outputs": [],
   "source": [
    "train_gen = ImageDataGenerator(rescale=1./255,horizontal_flip=True,shear_range = True,zoom_range=True,rotation_range=2,vertical_flip=True)"
   ]
  },
  {
   "cell_type": "code",
   "execution_count": 13,
   "metadata": {},
   "outputs": [
    {
     "name": "stdout",
     "output_type": "stream",
     "text": [
      "Found 761 images belonging to 2 classes.\n"
     ]
    }
   ],
   "source": [
    "train_set = train_gen.flow_from_directory(\"/Users/godfather_101/Downloads/human detection dataset/train\",\n",
    "batch_size=32,\n",
    "target_size=(128,128),\n",
    "class_mode=\"binary\")"
   ]
  },
  {
   "cell_type": "code",
   "execution_count": 14,
   "metadata": {},
   "outputs": [],
   "source": [
    "test_gen = ImageDataGenerator(rescale=1./255)"
   ]
  },
  {
   "cell_type": "code",
   "execution_count": 15,
   "metadata": {},
   "outputs": [
    {
     "name": "stdout",
     "output_type": "stream",
     "text": [
      "Found 162 images belonging to 2 classes.\n"
     ]
    }
   ],
   "source": [
    "test_set = test_gen.flow_from_directory(\"/Users/godfather_101/Downloads/human detection dataset/test\",\n",
    "batch_size=32,\n",
    "target_size=(128,128),\n",
    "class_mode=\"binary\")"
   ]
  },
  {
   "cell_type": "markdown",
   "metadata": {},
   "source": [
    "### Model"
   ]
  },
  {
   "cell_type": "code",
   "execution_count": 36,
   "metadata": {},
   "outputs": [
    {
     "name": "stdout",
     "output_type": "stream",
     "text": [
      "Model: \"sequential_2\"\n",
      "_________________________________________________________________\n",
      " Layer (type)                Output Shape              Param #   \n",
      "=================================================================\n",
      " conv2d_3 (Conv2D)           (None, 126, 126, 128)     3584      \n",
      "                                                                 \n",
      " max_pooling2d_3 (MaxPoolin  (None, 63, 63, 128)       0         \n",
      " g2D)                                                            \n",
      "                                                                 \n",
      " batch_normalization_3 (Bat  (None, 63, 63, 128)       512       \n",
      " chNormalization)                                                \n",
      "                                                                 \n",
      " flatten_2 (Flatten)         (None, 508032)            0         \n",
      "                                                                 \n",
      " dense_4 (Dense)             (None, 128)               65028224  \n",
      "                                                                 \n",
      " dense_5 (Dense)             (None, 1)                 129       \n",
      "                                                                 \n",
      "=================================================================\n",
      "Total params: 65032449 (248.08 MB)\n",
      "Trainable params: 65032193 (248.08 MB)\n",
      "Non-trainable params: 256 (1.00 KB)\n",
      "_________________________________________________________________\n"
     ]
    }
   ],
   "source": [
    "model = Sequential()\n",
    "model.add(Conv2D(128,(3,3),input_shape=(128,128,3),activation=\"relu\"))\n",
    "model.add(MaxPooling2D((2,2)))\n",
    "model.add(BatchNormalization())\n",
    "model.add(Flatten())\n",
    "model.add(Dense(128,activation=\"relu\"))\n",
    "model.add(Dense(1,activation=\"sigmoid\"))\n",
    "model.summary()"
   ]
  },
  {
   "cell_type": "code",
   "execution_count": 37,
   "metadata": {},
   "outputs": [],
   "source": [
    "from tensorflow.keras.losses import BinaryCrossentropy\n",
    "from tensorflow.keras.optimizers import Adam\n",
    "model.compile(optimizer=Adam(learning_rate=.01),loss= BinaryCrossentropy(),metrics=[\"accuracy\"])\n"
   ]
  },
  {
   "cell_type": "code",
   "execution_count": 38,
   "metadata": {},
   "outputs": [],
   "source": [
    "from tensorflow.keras.callbacks import ModelCheckpoint,EarlyStopping\n",
    "callbacks_list = [EarlyStopping(monitor=\"val_accuracy\",patience=10),\n",
    "ModelCheckpoint(monitor=\"accuracy\",filepath=\"model.h5\",save_best_only=True,verbose=0)]"
   ]
  },
  {
   "cell_type": "code",
   "execution_count": 39,
   "metadata": {},
   "outputs": [
    {
     "name": "stdout",
     "output_type": "stream",
     "text": [
      "Epoch 1/20\n",
      "2/2 [==============================] - 7s 5s/step - loss: 230.2744 - accuracy: 0.6250 - val_loss: 48.0751 - val_accuracy: 0.7031\n",
      "Epoch 2/20\n",
      "2/2 [==============================] - 5s 3s/step - loss: 349.9464 - accuracy: 0.4219 - val_loss: 9.5823 - val_accuracy: 0.4219\n",
      "Epoch 3/20\n",
      "2/2 [==============================] - 5s 4s/step - loss: 118.9527 - accuracy: 0.4375 - val_loss: 21.1675 - val_accuracy: 0.6875\n",
      "Epoch 4/20\n",
      "2/2 [==============================] - 5s 3s/step - loss: 66.7654 - accuracy: 0.4688 - val_loss: 0.7380 - val_accuracy: 0.5312\n",
      "Epoch 5/20\n",
      "2/2 [==============================] - 5s 3s/step - loss: 30.9389 - accuracy: 0.5469 - val_loss: 1.6564 - val_accuracy: 0.2656\n",
      "Epoch 6/20\n",
      "2/2 [==============================] - 5s 3s/step - loss: 7.9587 - accuracy: 0.3906 - val_loss: 0.6993 - val_accuracy: 0.3281\n",
      "Epoch 7/20\n",
      "2/2 [==============================] - 5s 3s/step - loss: 4.0952 - accuracy: 0.3594 - val_loss: 0.6996 - val_accuracy: 0.2812\n",
      "Epoch 8/20\n",
      "2/2 [==============================] - 5s 3s/step - loss: 3.4038 - accuracy: 0.4062 - val_loss: 0.6978 - val_accuracy: 0.2812\n",
      "Epoch 9/20\n",
      "2/2 [==============================] - 5s 4s/step - loss: 1.9360 - accuracy: 0.3750 - val_loss: 0.6954 - val_accuracy: 0.2812\n",
      "Epoch 10/20\n",
      "2/2 [==============================] - 5s 3s/step - loss: 0.8214 - accuracy: 0.4375 - val_loss: 0.6932 - val_accuracy: 0.2969\n",
      "Epoch 11/20\n",
      "2/2 [==============================] - 5s 3s/step - loss: 0.8495 - accuracy: 0.4219 - val_loss: 0.6903 - val_accuracy: 0.8125\n",
      "Epoch 12/20\n",
      "2/2 [==============================] - 5s 3s/step - loss: 0.7240 - accuracy: 0.6094 - val_loss: 0.6901 - val_accuracy: 0.6719\n",
      "Epoch 13/20\n",
      "2/2 [==============================] - 5s 3s/step - loss: 2.4085 - accuracy: 0.5000 - val_loss: 0.6889 - val_accuracy: 0.6719\n",
      "Epoch 14/20\n",
      "2/2 [==============================] - 5s 3s/step - loss: 0.6805 - accuracy: 0.5938 - val_loss: 0.6874 - val_accuracy: 0.6875\n",
      "Epoch 15/20\n",
      "2/2 [==============================] - 5s 3s/step - loss: 0.6885 - accuracy: 0.5469 - val_loss: 0.6850 - val_accuracy: 0.7188\n",
      "Epoch 16/20\n",
      "2/2 [==============================] - 6s 5s/step - loss: 1.1610 - accuracy: 0.6406 - val_loss: 0.6882 - val_accuracy: 0.6094\n",
      "Epoch 17/20\n",
      "2/2 [==============================] - 5s 4s/step - loss: 0.6888 - accuracy: 0.5938 - val_loss: 0.6837 - val_accuracy: 0.6719\n",
      "Epoch 18/20\n",
      "2/2 [==============================] - 5s 3s/step - loss: 0.6757 - accuracy: 0.6250 - val_loss: 0.6831 - val_accuracy: 0.6562\n",
      "Epoch 19/20\n",
      "2/2 [==============================] - 5s 4s/step - loss: 0.6926 - accuracy: 0.5156 - val_loss: 0.6717 - val_accuracy: 0.6562\n",
      "Epoch 20/20\n",
      "2/2 [==============================] - 5s 3s/step - loss: 0.8127 - accuracy: 0.4531 - val_loss: 0.6783 - val_accuracy: 0.6875\n"
     ]
    }
   ],
   "source": [
    "history = model.fit(train_set,epochs=20,steps_per_epoch=2,validation_data=(test_set),callbacks=callbacks_list,validation_steps=2)"
   ]
  },
  {
   "cell_type": "code",
   "execution_count": 40,
   "metadata": {},
   "outputs": [
    {
     "data": {
      "image/png": "[encoded data removed]",
      "text/plain": [
       "<Figure size 640x480 with 1 Axes>"
      ]
     },
     "metadata": {},
     "output_type": "display_data"
    }
   ],
   "source": [
    "import matplotlib.pyplot as plt\n",
    "plt.plot(history.history[\"val_accuracy\"],color=\"g\")\n",
    "plt.plot(history.history[\"val_loss\"],color=\"r\")\n",
    "plt.xlabel(\"accuracy\")\n",
    "plt.ylabel(\"loss\")\n",
    "plt.show()"
   ]
  },
  {
   "cell_type": "code",
   "execution_count": 41,
   "metadata": {},
   "outputs": [
    {
     "name": "stdout",
     "output_type": "stream",
     "text": [
      "Model: \"sequential_2\"\n",
      "_________________________________________________________________\n",
      " Layer (type)                Output Shape              Param #   \n",
      "=================================================================\n",
      " conv2d_3 (Conv2D)           (None, 126, 126, 128)     3584      \n",
      "                                                                 \n",
      " max_pooling2d_3 (MaxPoolin  (None, 63, 63, 128)       0         \n",
      " g2D)                                                            \n",
      "                                                                 \n",
      " batch_normalization_3 (Bat  (None, 63, 63, 128)       512       \n",
      " chNormalization)                                                \n",
      "                                                                 \n",
      " flatten_2 (Flatten)         (None, 508032)            0         \n",
      "                                                                 \n",
      " dense_4 (Dense)             (None, 128)               65028224  \n",
      "                                                                 \n",
      " dense_5 (Dense)             (None, 1)                 129       \n",
      "                                                                 \n",
      "=================================================================\n",
      "Total params: 65032449 (248.08 MB)\n",
      "Trainable params: 65032193 (248.08 MB)\n",
      "Non-trainable params: 256 (1.00 KB)\n",
      "_________________________________________________________________\n"
     ]
    }
   ],
   "source": [
    "model = load_model(\"/Users/godfather_101/Downloads/human detection dataset/model.h5\")\n",
    "model.summary()"
   ]
  },
  {
   "cell_type": "code",
   "execution_count": 42,
   "metadata": {},
   "outputs": [
    {
     "name": "stdout",
     "output_type": "stream",
     "text": [
      "6/6 [==============================] - 4s 606ms/step - loss: 0.6840 - accuracy: 0.6975\n"
     ]
    },
    {
     "data": {
      "text/plain": [
       "[0.6840398907661438, 0.6975308656692505]"
      ]
     },
     "execution_count": 42,
     "metadata": {},
     "output_type": "execute_result"
    }
   ],
   "source": [
    "model.evaluate(test_set)"
   ]
  },
  {
   "cell_type": "code",
   "execution_count": 43,
   "metadata": {},
   "outputs": [],
   "source": [
    "import pickle\n",
    "with open(\"HumanDetectionModel.pkl\",\"wb\") as file:\n",
    "    pickle.dump(model,file)"
   ]
  },
  {
   "cell_type": "code",
   "execution_count": 44,
   "metadata": {},
   "outputs": [
    {
     "data": {
      "text/plain": [
       "['Model']"
      ]
     },
     "execution_count": 44,
     "metadata": {},
     "output_type": "execute_result"
    }
   ],
   "source": [
    "import joblib\n",
    "joblib.dump(model,\"Model\")"
   ]
  }
 ],
 "metadata": {
  "kernelspec": {
   "display_name": "Python 3",
   "language": "python",
   "name": "python3"
  },
  "language_info": {
   "codemirror_mode": {
    "name": "ipython",
    "version": 3
   },
   "file_extension": ".py",
   "mimetype": "text/x-python",
   "name": "python",
   "nbconvert_exporter": "python",
   "pygments_lexer": "ipython3",
   "version": "3.11.5"
  }
 },
 "nbformat": 4,
 "nbformat_minor": 2
}
